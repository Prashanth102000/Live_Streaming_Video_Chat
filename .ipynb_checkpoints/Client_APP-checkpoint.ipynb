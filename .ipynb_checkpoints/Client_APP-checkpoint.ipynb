{
 "cells": [
  {
   "cell_type": "code",
   "execution_count": null,
   "metadata": {},
   "outputs": [],
   "source": []
  },
  {
   "cell_type": "code",
   "execution_count": 2,
   "metadata": {},
   "outputs": [
    {
     "ename": "OSError",
     "evalue": "[WinError 10049] The requested address is not valid in its context",
     "output_type": "error",
     "traceback": [
      "\u001b[1;31m---------------------------------------------------------------------------\u001b[0m",
      "\u001b[1;31mOSError\u001b[0m                                   Traceback (most recent call last)",
      "\u001b[1;32m<ipython-input-2-8212d60e0a7c>\u001b[0m in \u001b[0;36m<module>\u001b[1;34m\u001b[0m\n\u001b[0;32m     45\u001b[0m \u001b[1;31m# Set up client socket\u001b[0m\u001b[1;33m\u001b[0m\u001b[1;33m\u001b[0m\u001b[1;33m\u001b[0m\u001b[0m\n\u001b[0;32m     46\u001b[0m \u001b[0mclient_socket\u001b[0m \u001b[1;33m=\u001b[0m \u001b[0msocket\u001b[0m\u001b[1;33m.\u001b[0m\u001b[0msocket\u001b[0m\u001b[1;33m(\u001b[0m\u001b[0msocket\u001b[0m\u001b[1;33m.\u001b[0m\u001b[0mAF_INET\u001b[0m\u001b[1;33m,\u001b[0m \u001b[0msocket\u001b[0m\u001b[1;33m.\u001b[0m\u001b[0mSOCK_STREAM\u001b[0m\u001b[1;33m)\u001b[0m\u001b[1;33m\u001b[0m\u001b[1;33m\u001b[0m\u001b[0m\n\u001b[1;32m---> 47\u001b[1;33m \u001b[0mclient_socket\u001b[0m\u001b[1;33m.\u001b[0m\u001b[0mconnect\u001b[0m\u001b[1;33m(\u001b[0m\u001b[1;33m(\u001b[0m\u001b[1;34m'0.0.0.0'\u001b[0m\u001b[1;33m,\u001b[0m \u001b[1;36m8080\u001b[0m\u001b[1;33m)\u001b[0m\u001b[1;33m)\u001b[0m\u001b[1;33m\u001b[0m\u001b[1;33m\u001b[0m\u001b[0m\n\u001b[0m\u001b[0;32m     48\u001b[0m \u001b[1;33m\u001b[0m\u001b[0m\n\u001b[0;32m     49\u001b[0m \u001b[0msend_thread\u001b[0m \u001b[1;33m=\u001b[0m \u001b[0mthreading\u001b[0m\u001b[1;33m.\u001b[0m\u001b[0mThread\u001b[0m\u001b[1;33m(\u001b[0m\u001b[0mtarget\u001b[0m\u001b[1;33m=\u001b[0m\u001b[0msend_video_to_server\u001b[0m\u001b[1;33m,\u001b[0m \u001b[0margs\u001b[0m\u001b[1;33m=\u001b[0m\u001b[1;33m(\u001b[0m\u001b[0mclient_socket\u001b[0m\u001b[1;33m,\u001b[0m \u001b[1;36m0\u001b[0m\u001b[1;33m)\u001b[0m\u001b[1;33m)\u001b[0m\u001b[1;33m\u001b[0m\u001b[1;33m\u001b[0m\u001b[0m\n",
      "\u001b[1;31mOSError\u001b[0m: [WinError 10049] The requested address is not valid in its context"
     ]
    }
   ],
   "source": [
    "import cv2\n",
    "import socket\n",
    "import pickle\n",
    "import struct\n",
    "import threading\n",
    "\n",
    "def send_video_to_server(client_socket, camera_id):\n",
    "    vid = cv2.VideoCapture(camera_id)\n",
    "    try:\n",
    "        while True:\n",
    "            _, frame = vid.read()\n",
    "            data = pickle.dumps(frame)\n",
    "            message = struct.pack(\"Q\", len(data)) + data\n",
    "            client_socket.sendall(message)\n",
    "    except Exception as e:\n",
    "        print(f\"Server disconnected: {e}\")\n",
    "        client_socket.close()\n",
    "\n",
    "def receive_and_display_video(client_socket):\n",
    "    try:\n",
    "        while True:\n",
    "            data = b\"\"\n",
    "            payload_size = struct.calcsize(\"Q\")\n",
    "            while len(data) < payload_size:\n",
    "                packet = client_socket.recv(4*1024)\n",
    "                if not packet: break\n",
    "                data += packet\n",
    "            packed_msg_size = data[:payload_size]\n",
    "            data = data[payload_size:]\n",
    "            msg_size = struct.unpack(\"Q\", packed_msg_size)[0]\n",
    "\n",
    "            while len(data) < msg_size:\n",
    "                data += client_socket.recv(4*1024)\n",
    "            frame_data = data[:msg_size]\n",
    "            data = data[msg_size:]\n",
    "            frame = pickle.loads(frame_data)\n",
    "            cv2.imshow('Client', frame)\n",
    "            if cv2.waitKey(1) & 0xFF == ord('q'):\n",
    "                break\n",
    "    except Exception as e:\n",
    "        print(e)\n",
    "    finally:\n",
    "        client_socket.close()\n",
    "\n",
    "# Set up client socket\n",
    "client_socket = socket.socket(socket.AF_INET, socket.SOCK_STREAM)\n",
    "client_socket.connect(('192.168.56.1', 8080))\n",
    "\n",
    "send_thread = threading.Thread(target=send_video_to_server, args=(client_socket, 0))\n",
    "send_thread.daemon = True\n",
    "send_thread.start()\n",
    "\n",
    "receive_thread = threading.Thread(target=receive_and_display_video, args=(client_socket,))\n",
    "receive_thread.daemon = True\n",
    "receive_thread.start()\n",
    "\n",
    "cv2.waitKey(0)\n",
    "cv2.destroyAllWindows()\n"
   ]
  },
  {
   "cell_type": "code",
   "execution_count": null,
   "metadata": {},
   "outputs": [],
   "source": []
  },
  {
   "cell_type": "code",
   "execution_count": null,
   "metadata": {},
   "outputs": [],
   "source": []
  }
 ],
 "metadata": {
  "kernelspec": {
   "display_name": "Python 3",
   "language": "python",
   "name": "python3"
  },
  "language_info": {
   "codemirror_mode": {
    "name": "ipython",
    "version": 3
   },
   "file_extension": ".py",
   "mimetype": "text/x-python",
   "name": "python",
   "nbconvert_exporter": "python",
   "pygments_lexer": "ipython3",
   "version": "3.8.3"
  }
 },
 "nbformat": 4,
 "nbformat_minor": 4
}
