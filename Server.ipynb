{
 "cells": [
  {
   "cell_type": "markdown",
   "metadata": {},
   "source": [
    "# Server "
   ]
  },
  {
   "cell_type": "code",
   "execution_count": 1,
   "metadata": {},
   "outputs": [],
   "source": [
    "import cv2\n",
    "import socket\n",
    "import pickle\n",
    "import struct"
   ]
  },
  {
   "cell_type": "code",
   "execution_count": 2,
   "metadata": {},
   "outputs": [
    {
     "name": "stdout",
     "output_type": "stream",
     "text": [
      "Socket successfully created ...\n"
     ]
    }
   ],
   "source": [
    "try:\n",
    "    # Socket families : AF_INET : A pair (host, port) is used for the AF_INET address family,\n",
    "    #family=AF_INET, type=SOCK_STREAM,\n",
    "    s = socket.socket(socket.AF_INET, socket.SOCK_STREAM)\n",
    "    print(\"Socket successfully created ...\")\n",
    "    #exception function to raised for address-related errors\n",
    "except socket.error as err:\n",
    "    print(\"Socket Create failed, due to  {}\".formatat(err))"
   ]
  },
  {
   "cell_type": "code",
   "execution_count": 3,
   "metadata": {},
   "outputs": [],
   "source": [
    "host = ''    # Symbolic name meaning all available interfaces\n",
    "port = 1234 # Arbitrary non-privileged port"
   ]
  },
  {
   "cell_type": "code",
   "execution_count": 4,
   "metadata": {},
   "outputs": [
    {
     "name": "stdout",
     "output_type": "stream",
     "text": [
      "Socket is Started listening ! \n",
      "Connected to Client IP :  ('192.168.137.1', 55535)\n"
     ]
    }
   ],
   "source": [
    "s.bind((host, port))\n",
    "s.listen()\n",
    "print(\"Socket is Started listening ! \")\n",
    "try:\n",
    "    while True:\n",
    "        conn, clientip = s.accept()\n",
    "        print(\"Connected to Client IP : \",clientip)\n",
    "        if conn:\n",
    "            cap = cv2.VideoCapture(0)\n",
    "            while(cap.isOpened()):\n",
    "                ret, img = cap.read()\n",
    "                #“Pickling” is the process whereby a Python object hierarchy is converted into a byte stream\n",
    "                data = pickle.dumps(img)\n",
    "                '''The module’s functions and objects can be used for two largely distinct applications, data exchange with external sources \n",
    "                (files or network connections), or data transfer between the Python application and the C layer.'''\n",
    "                msg = struct.pack(\"Q\", len(data)) + data\n",
    "                conn.sendall(msg)\n",
    "                cv2.imshow(\"Transmitting video...\",img)\n",
    "                if cv2.waitKey(1) == 13:\n",
    "                    cv2.destroyAllWindows()\n",
    "                    conn.close()\n",
    "                    break\n",
    "except:\n",
    "    cv2.destroyAllWindows()\n",
    "    conn.close()\n",
    "    \n",
    "#conn == Sessions Maintained (All Information of client)\n",
    "#clientip == Client Accept Information"
   ]
  },
  {
   "cell_type": "code",
   "execution_count": 5,
   "metadata": {},
   "outputs": [],
   "source": [
    "cap.release()"
   ]
  },
  {
   "cell_type": "code",
   "execution_count": 25,
   "metadata": {},
   "outputs": [],
   "source": []
  },
  {
   "cell_type": "code",
   "execution_count": null,
   "metadata": {},
   "outputs": [],
   "source": []
  },
  {
   "cell_type": "code",
   "execution_count": null,
   "metadata": {},
   "outputs": [],
   "source": []
  }
 ],
 "metadata": {
  "kernelspec": {
   "display_name": "Python 3",
   "language": "python",
   "name": "python3"
  },
  "language_info": {
   "codemirror_mode": {
    "name": "ipython",
    "version": 3
   },
   "file_extension": ".py",
   "mimetype": "text/x-python",
   "name": "python",
   "nbconvert_exporter": "python",
   "pygments_lexer": "ipython3",
   "version": "3.8.3"
  }
 },
 "nbformat": 4,
 "nbformat_minor": 4
}
