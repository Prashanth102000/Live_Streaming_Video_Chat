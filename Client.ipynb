{
 "cells": [
  {
   "cell_type": "markdown",
   "metadata": {},
   "source": [
    "# Client"
   ]
  },
  {
   "cell_type": "code",
   "execution_count": 1,
   "metadata": {},
   "outputs": [],
   "source": [
    "import cv2\n",
    "import socket\n",
    "import pickle\n",
    "import struct"
   ]
  },
  {
   "cell_type": "code",
   "execution_count": 2,
   "metadata": {},
   "outputs": [
    {
     "name": "stdout",
     "output_type": "stream",
     "text": [
      "Socket successfully created ..!!\n"
     ]
    }
   ],
   "source": [
    "try:\n",
    "    s = socket.socket(socket.AF_INET, socket.SOCK_STREAM)\n",
    "    print(\"Socket successfully created ..!!\")\n",
    "except socket.error as err:\n",
    "    print(\"Socket Create failed, due to {}\".formatat(err))"
   ]
  },
  {
   "cell_type": "code",
   "execution_count": 3,
   "metadata": {},
   "outputs": [],
   "source": [
    "port = 1234\n",
    "serverip = \"192.168.137.1\""
   ]
  },
  {
   "cell_type": "code",
   "execution_count": 4,
   "metadata": {},
   "outputs": [],
   "source": [
    "s.connect((serverip,port))\n",
    "data = b\"\"\n",
    "''' struct.calcsize(\"Q\") : Return the size of the struct (and hence of the bytes object produced by pack(format, ...))\n",
    "corresponding to the format string format.'''\n",
    "payload_size = struct.calcsize(\"Q\")\n",
    "try:\n",
    "    while True:\n",
    "        while len(data) < payload_size:\n",
    "            packet = s.recv(4*1024)\n",
    "            if not packet: break\n",
    "            data = data + packet\n",
    "            \n",
    "        packed_msg_size = data[:payload_size]\n",
    "        \n",
    "        data = data[payload_size:]\n",
    "        \n",
    "        '''Unpack from the buffer buffer (presumably packed by pack(format, ...))\n",
    "        according to the format string format.'''\n",
    "        msg_size =  struct.unpack(\"Q\",packed_msg_size)[0]\n",
    "\n",
    "        while len(data) < msg_size:\n",
    "            data+= s.recv(4*1024)\n",
    "            \n",
    "        img_data = data[:msg_size]\n",
    "        data = data[msg_size:]\n",
    "        \n",
    "        '''Return the reconstituted object hierarchy of the pickled \n",
    "        representation data of an object. data must be a bytes-like object.'''\n",
    "        img = pickle.loads(img_data)\n",
    "        cv2.imshow(\"Recieving video..!\", img)\n",
    "        if cv2.waitKey(10) == 13:\n",
    "            cv2.destroyAllWindows()\n",
    "            break\n",
    "    s.close()\n",
    "except:\n",
    "    cv2.destroyAllWindows()\n",
    "    s.close()"
   ]
  },
  {
   "cell_type": "code",
   "execution_count": null,
   "metadata": {},
   "outputs": [],
   "source": []
  },
  {
   "cell_type": "code",
   "execution_count": null,
   "metadata": {},
   "outputs": [],
   "source": []
  },
  {
   "cell_type": "code",
   "execution_count": null,
   "metadata": {},
   "outputs": [],
   "source": []
  },
  {
   "cell_type": "code",
   "execution_count": null,
   "metadata": {},
   "outputs": [],
   "source": []
  },
  {
   "cell_type": "code",
   "execution_count": null,
   "metadata": {},
   "outputs": [],
   "source": []
  },
  {
   "cell_type": "code",
   "execution_count": null,
   "metadata": {},
   "outputs": [],
   "source": []
  }
 ],
 "metadata": {
  "kernelspec": {
   "display_name": "Python 3",
   "language": "python",
   "name": "python3"
  },
  "language_info": {
   "codemirror_mode": {
    "name": "ipython",
    "version": 3
   },
   "file_extension": ".py",
   "mimetype": "text/x-python",
   "name": "python",
   "nbconvert_exporter": "python",
   "pygments_lexer": "ipython3",
   "version": "3.8.3"
  }
 },
 "nbformat": 4,
 "nbformat_minor": 4
}
